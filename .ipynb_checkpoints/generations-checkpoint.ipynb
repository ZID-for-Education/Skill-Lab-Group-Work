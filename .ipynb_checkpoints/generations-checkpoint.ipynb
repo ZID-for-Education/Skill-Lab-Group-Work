{
 "cells": [
  {
   "cell_type": "code",
   "execution_count": 1,
   "metadata": {},
   "outputs": [
    {
     "name": "stdin",
     "output_type": "stream",
     "text": [
      "What is your name?  Ian\n"
     ]
    },
    {
     "name": "stdout",
     "output_type": "stream",
     "text": [
      "Hello, Ian!\n"
     ]
    },
    {
     "name": "stdin",
     "output_type": "stream",
     "text": [
      "What year were you born in? 2001\n"
     ]
    },
    {
     "name": "stdout",
     "output_type": "stream",
     "text": [
      "You are part of Generation Z\n"
     ]
    }
   ],
   "source": [
    "print(\"Hello, \"+input(\"What is your name? \")+\"!\")\n",
    "year = int(input(\"What year were you born in?\"))\n",
    "if year < 1900:\n",
    "    print(\"You are very, very, very old.\")\n",
    "elif year < 1928:\n",
    "    print(\"You came before the silent generation.\")\n",
    "elif year < 1946:\n",
    "    print(\"You are part of the silent generation\")\n",
    "elif year < 1965:\n",
    "    print(\"You are a boomer.\")\n",
    "elif year < 1981:\n",
    "    print(\"You are part of Generation X\")\n",
    "elif year < 1997:\n",
    "    print(\"You are a millenial\")\n",
    "elif year < 2012:\n",
    "    print(\"You are part of Generation Z\")\n",
    "else:\n",
    "    print(\"You are too young to be a part of a generation (or don't exist yet)\")"
   ]
  }
 ],
 "metadata": {
  "kernelspec": {
   "display_name": "Python 3",
   "language": "python",
   "name": "python3"
  },
  "language_info": {
   "codemirror_mode": {
    "name": "ipython",
    "version": 3
   },
   "file_extension": ".py",
   "mimetype": "text/x-python",
   "name": "python",
   "nbconvert_exporter": "python",
   "pygments_lexer": "ipython3",
   "version": "3.7.8"
  }
 },
 "nbformat": 4,
 "nbformat_minor": 4
}
